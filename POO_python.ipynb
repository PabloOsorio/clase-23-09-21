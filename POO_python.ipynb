{
  "nbformat": 4,
  "nbformat_minor": 0,
  "metadata": {
    "colab": {
      "name": "POO python.ipynb",
      "provenance": [],
      "authorship_tag": "ABX9TyOuSxQe1JabB1d43G/l9gGx",
      "include_colab_link": true
    },
    "kernelspec": {
      "name": "python3",
      "display_name": "Python 3"
    },
    "language_info": {
      "name": "python"
    }
  },
  "cells": [
    {
      "cell_type": "markdown",
      "metadata": {
        "id": "view-in-github",
        "colab_type": "text"
      },
      "source": [
        "<a href=\"https://colab.research.google.com/github/PabloOsorio/clase-23-09-21/blob/main/POO_python.ipynb\" target=\"_parent\"><img src=\"https://colab.research.google.com/assets/colab-badge.svg\" alt=\"Open In Colab\"/></a>"
      ]
    },
    {
      "cell_type": "markdown",
      "metadata": {
        "id": "su8kKqdQw9U8"
      },
      "source": [
        "#Programación Orientada a Objetos\n",
        "La POO es un paradigma no soportado priginalmente por Python, Python aneja el paradigma Imperativo.\n",
        "\n",
        "Python simula la POO con la declaración de clases y haciendo referencia a un objeto de forma circular. **self** en python es equivalente a this de java\n",
        "\n",
        "1. Forma 1:\n",
        "\n",
        "class <Nombre de la clase>:\n",
        "      <definición de la clase>\n",
        "\n",
        "2.Forma 2:\n",
        "\n",
        "class <nombre de la clase>(<Super clase>):\n",
        "      <Definicion del cuerpo de la clase>\n",
        "\n",
        "\n",
        "La declaración de atributos se realiza por medio del constructor.\n",
        "\n",
        "Para hacer encapsulamiento de métodos o atributos se debe poner__(DOBLE GUION BAJO) previo a la declaración del atributo o método"
      ]
    },
    {
      "cell_type": "code",
      "metadata": {
        "colab": {
          "base_uri": "https://localhost:8080/"
        },
        "id": "x6s435hsxCEj",
        "outputId": "efc24804-60a6-4eb9-ba71-f5222a141b14"
      },
      "source": [
        "class Persona:\n",
        "   def __init__( self  , n , e, est ):\n",
        "     self.__nombre = n\n",
        "     self.__edad = e\n",
        "     self.__estatura = est\n",
        "   def to_string( self ):\n",
        "      return \"Nombre: \" + self.__nombre +\" Edad: \"+ str(self.__edad) + \" Estatura: \" + str(self.__estatura)\n",
        "   def set_estatura( self , nueva_est ):\n",
        "     if nueva_est > 0.10 and nueva_est < 2.5 :\n",
        "       self.__estatura = nueva_est\n",
        "     else:\n",
        "       print(\"Error: Dato incorrecto no existe esa estatura\")\n",
        "  \n",
        "   def get__estatura( self ):\n",
        "     return self.__estatura\n",
        "\n",
        "per = Persona(\"Jose\",19,1.7)\n",
        "print(per.to_string())"
      ],
      "execution_count": 15,
      "outputs": [
        {
          "output_type": "stream",
          "name": "stdout",
          "text": [
            "Nombre: Jose Edad: 19 Estatura: 1.7\n"
          ]
        }
      ]
    },
    {
      "cell_type": "code",
      "metadata": {
        "colab": {
          "base_uri": "https://localhost:8080/"
        },
        "id": "1xP4I5Tzx-NT",
        "outputId": "c010c88d-7055-493f-8af5-7965ebd5c9a8"
      },
      "source": [
        "#Encapsulamiento\n",
        "\n",
        "per.nombre = \"Pedro\" # No se debe hacer esto\n",
        "\n",
        "print(per.to_string())\n",
        "\n",
        "#per.estatura = 3.9\n",
        "per.set_estatura(3.9)\n",
        "print(per.to_string())\n",
        "\n",
        "print(\"Estatura: \" , end=\"\")\n",
        "print(per.get__estatura())"
      ],
      "execution_count": 17,
      "outputs": [
        {
          "output_type": "stream",
          "name": "stdout",
          "text": [
            "Nombre: Jose Edad: 19 Estatura: 1.7\n",
            "Error: Dato incorrecto no existe esa estatura\n",
            "Nombre: Jose Edad: 19 Estatura: 1.7\n",
            "Estatura: 1.7\n"
          ]
        }
      ]
    },
    {
      "cell_type": "code",
      "metadata": {
        "id": "Cx1MvsMQ2muw"
      },
      "source": [
        "class Estudiante( Persona ):\n",
        "    def __init__(self,  nc, nombre, edad, est):\n",
        "        self.__num_cta = nc\n",
        "        super().__init__(nombre,edad,est)\n",
        "    def to_string(self):\n",
        "        \n",
        "        return super().to_string() + \"Numero de cta.:\" + self.__num_cta"
      ],
      "execution_count": 8,
      "outputs": []
    }
  ]
}